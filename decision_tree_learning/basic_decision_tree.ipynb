{
  "nbformat": 4,
  "nbformat_minor": 0,
  "metadata": {
    "colab": {
      "name": "Untitled11.ipynb",
      "provenance": [],
      "authorship_tag": "ABX9TyP8EyP/uubch4vE9WQsZdgb",
      "include_colab_link": true
    },
    "kernelspec": {
      "name": "python3",
      "display_name": "Python 3"
    }
  },
  "cells": [
    {
      "cell_type": "markdown",
      "metadata": {
        "id": "view-in-github",
        "colab_type": "text"
      },
      "source": [
        "<a href=\"https://colab.research.google.com/github/iceman011/tutorials/blob/master/decision_tree_learning/basic_decision_tree.ipynb\" target=\"_parent\"><img src=\"https://colab.research.google.com/assets/colab-badge.svg\" alt=\"Open In Colab\"/></a>"
      ]
    },
    {
      "cell_type": "code",
      "metadata": {
        "id": "A6WO7ouv_-NF",
        "outputId": "45af4c4d-e6cf-4f74-931c-edb06d8e1264",
        "colab": {
          "base_uri": "https://localhost:8080/"
        }
      },
      "source": [
        "from sklearn.tree import DecisionTreeClassifier\r\n",
        "from sklearn.datasets import load_breast_cancer\r\n",
        "from sklearn.model_selection import train_test_split\r\n",
        "\r\n",
        "cancer = load_breast_cancer()\r\n",
        "\r\n",
        "\r\n",
        "\r\n",
        "X_train, X_test, y_train, y_test = train_test_split(cancer.data, cancer.target, stratify=cancer.target, random_state=42)\r\n",
        "\r\n",
        "gini_tree = DecisionTreeClassifier(random_state=0)\r\n",
        "gini_tree.fit(X_train, y_train)\r\n",
        "\r\n",
        "print(\"Accuracy on training set: {:.3f}\".format(gini_tree.score(X_train, y_train)))\r\n",
        "print(\"Accuracy on test set: {:.3f}\".format(gini_tree.score(X_test, y_test)))"
      ],
      "execution_count": 9,
      "outputs": [
        {
          "output_type": "stream",
          "text": [
            "Accuracy on training set: 1.000\n",
            "Accuracy on test set: 0.937\n"
          ],
          "name": "stdout"
        }
      ]
    },
    {
      "cell_type": "code",
      "metadata": {
        "id": "EXPMdZi0Z6pI",
        "outputId": "af9b104d-51aa-42ab-ce05-e10f13a02941",
        "colab": {
          "base_uri": "https://localhost:8080/"
        }
      },
      "source": [
        "################ TREE PROPERTIES ###################\r\n",
        "\r\n",
        "import numpy as np\r\n",
        "\r\n",
        "n_nodes = gini_tree.tree_.node_count\r\n",
        "children_left = gini_tree.tree_.children_left\r\n",
        "children_right = gini_tree.tree_.children_right\r\n",
        "feature = gini_tree.tree_.feature\r\n",
        "threshold = gini_tree.tree_.threshold\r\n",
        "\r\n",
        "node_depth = np.zeros(shape=n_nodes, dtype=np.int64)\r\n",
        "is_leaves = np.zeros(shape=n_nodes, dtype=bool)\r\n",
        "stack = [(0, 0)]  # start with the root node id (0) and its depth (0)\r\n",
        "while len(stack) > 0:\r\n",
        "    # `pop` ensures each node is only visited once\r\n",
        "    node_id, depth = stack.pop()\r\n",
        "    node_depth[node_id] = depth\r\n",
        "\r\n",
        "    # If the left and right child of a node is not the same we have a split\r\n",
        "    # node\r\n",
        "    is_split_node = children_left[node_id] != children_right[node_id]\r\n",
        "    # If a split node, append left and right children and depth to `stack`\r\n",
        "    # so we can loop through them\r\n",
        "    if is_split_node:\r\n",
        "        stack.append((children_left[node_id], depth + 1))\r\n",
        "        stack.append((children_right[node_id], depth + 1))\r\n",
        "    else:\r\n",
        "        is_leaves[node_id] = True\r\n",
        "\r\n",
        "print(\"The binary tree structure has {n} nodes and has \"\r\n",
        "      \"the following tree structure:\\n\".format(n=n_nodes))\r\n",
        "for i in range(n_nodes):\r\n",
        "    if is_leaves[i]:\r\n",
        "        print(\"{space}node={node} is a leaf node.\".format(\r\n",
        "            space=node_depth[i] * \"\\t\", node=i))\r\n",
        "    else:\r\n",
        "        print(\"{space}node={node} is a split node: \"\r\n",
        "              \"go to node {left} if X[:, {feature}] <= {threshold} \"\r\n",
        "              \"else to node {right}.\".format(\r\n",
        "                  space=node_depth[i] * \"\\t\",\r\n",
        "                  node=i,\r\n",
        "                  left=children_left[i],\r\n",
        "                  feature=feature[i],\r\n",
        "                  threshold=threshold[i],\r\n",
        "                  right=children_right[i]))\r\n",
        "\r\n"
      ],
      "execution_count": 34,
      "outputs": [
        {
          "output_type": "stream",
          "text": [
            "19.89\n",
            "The binary tree structure has 35 nodes and has the following tree structure:\n",
            "\n",
            "node=0 is a split node: go to node 1 if X[:, 20] <= 16.795000076293945 else to node 28.\n",
            "\tnode=1 is a split node: go to node 2 if X[:, 27] <= 0.1359499990940094 else to node 17.\n",
            "\t\tnode=2 is a split node: go to node 3 if X[:, 10] <= 1.047549992799759 else to node 16.\n",
            "\t\t\tnode=3 is a split node: go to node 4 if X[:, 14] <= 0.003294000052846968 else to node 7.\n",
            "\t\t\t\tnode=4 is a split node: go to node 5 if X[:, 1] <= 19.899999618530273 else to node 6.\n",
            "\t\t\t\t\tnode=5 is a leaf node.\n",
            "\t\t\t\t\tnode=6 is a leaf node.\n",
            "\t\t\t\tnode=7 is a split node: go to node 8 if X[:, 13] <= 48.70000076293945 else to node 13.\n",
            "\t\t\t\t\tnode=8 is a split node: go to node 9 if X[:, 21] <= 33.35000038146973 else to node 10.\n",
            "\t\t\t\t\t\tnode=9 is a leaf node.\n",
            "\t\t\t\t\t\tnode=10 is a split node: go to node 11 if X[:, 21] <= 33.79999923706055 else to node 12.\n",
            "\t\t\t\t\t\t\tnode=11 is a leaf node.\n",
            "\t\t\t\t\t\t\tnode=12 is a leaf node.\n",
            "\t\t\t\t\tnode=13 is a split node: go to node 14 if X[:, 6] <= 0.02898500021547079 else to node 15.\n",
            "\t\t\t\t\t\tnode=14 is a leaf node.\n",
            "\t\t\t\t\t\tnode=15 is a leaf node.\n",
            "\t\t\tnode=16 is a leaf node.\n",
            "\t\tnode=17 is a split node: go to node 18 if X[:, 21] <= 25.619999885559082 else to node 23.\n",
            "\t\t\tnode=18 is a split node: go to node 19 if X[:, 23] <= 817.1000061035156 else to node 22.\n",
            "\t\t\t\tnode=19 is a split node: go to node 20 if X[:, 4] <= 0.12265000119805336 else to node 21.\n",
            "\t\t\t\t\tnode=20 is a leaf node.\n",
            "\t\t\t\t\tnode=21 is a leaf node.\n",
            "\t\t\t\tnode=22 is a leaf node.\n",
            "\t\t\tnode=23 is a split node: go to node 24 if X[:, 28] <= 0.26820001006126404 else to node 27.\n",
            "\t\t\t\tnode=24 is a split node: go to node 25 if X[:, 19] <= 0.0023029999574646354 else to node 26.\n",
            "\t\t\t\t\tnode=25 is a leaf node.\n",
            "\t\t\t\t\tnode=26 is a leaf node.\n",
            "\t\t\t\tnode=27 is a leaf node.\n",
            "\tnode=28 is a split node: go to node 29 if X[:, 11] <= 0.47314999997615814 else to node 30.\n",
            "\t\tnode=29 is a leaf node.\n",
            "\t\tnode=30 is a split node: go to node 31 if X[:, 26] <= 0.190700002014637 else to node 34.\n",
            "\t\t\tnode=31 is a split node: go to node 32 if X[:, 21] <= 30.975000381469727 else to node 33.\n",
            "\t\t\t\tnode=32 is a leaf node.\n",
            "\t\t\t\tnode=33 is a leaf node.\n",
            "\t\t\tnode=34 is a leaf node.\n"
          ],
          "name": "stdout"
        }
      ]
    },
    {
      "cell_type": "code",
      "metadata": {
        "id": "LOGqt3oEhw0q",
        "outputId": "56f7068a-d638-430d-a251-e8b51da9e172",
        "colab": {
          "base_uri": "https://localhost:8080/"
        }
      },
      "source": [
        "###### DECIOSION PATH ################\r\n",
        "node_indicator = gini_tree.decision_path(X_test)\r\n",
        "leaf_id = gini_tree.apply(X_test)\r\n",
        "\r\n",
        "sample_id = 0\r\n",
        "# obtain ids of the nodes `sample_id` goes through, i.e., row `sample_id`\r\n",
        "node_index = node_indicator.indices[node_indicator.indptr[sample_id]:\r\n",
        "                                    node_indicator.indptr[sample_id + 1]]\r\n",
        "\r\n",
        "print('Rules used to predict sample {id}:\\n'.format(id=sample_id))\r\n",
        "for node_id in node_index:\r\n",
        "    # continue to the next node if it is a leaf node\r\n",
        "    if leaf_id[sample_id] == node_id:\r\n",
        "        continue\r\n",
        "\r\n",
        "    # check if value of the split feature for sample 0 is below threshold\r\n",
        "    if (X_test[sample_id, feature[node_id]] <= threshold[node_id]):\r\n",
        "        threshold_sign = \"<=\"\r\n",
        "    else:\r\n",
        "        threshold_sign = \">\"\r\n",
        "\r\n",
        "    print(\"decision node {node} : (X_test[{sample}, {feature}] = {value}) \"\r\n",
        "          \"{inequality} {threshold})\".format(\r\n",
        "              node=node_id,\r\n",
        "              sample=sample_id,\r\n",
        "              feature=feature[node_id],\r\n",
        "              value=X_test[sample_id, feature[node_id]],\r\n",
        "              inequality=threshold_sign,\r\n",
        "              threshold=threshold[node_id]))\r\n",
        "    \r\n",
        "##########################################33\r\n",
        "\r\n",
        "sample_ids = [0, 2]\r\n",
        "# boolean array indicating the nodes both samples go through\r\n",
        "common_nodes = (node_indicator.toarray()[sample_ids].sum(axis=0) ==\r\n",
        "                len(sample_ids))\r\n",
        "# obtain node ids using position in array\r\n",
        "common_node_id = np.arange(n_nodes)[common_nodes]\r\n",
        "\r\n",
        "print(\"\\nThe following samples {samples} share the node(s) {nodes} in the \"\r\n",
        "      \"tree.\".format(samples=sample_ids, nodes=common_node_id))\r\n",
        "print(\"This is {prop}% of all nodes.\".format(\r\n",
        "    prop=100 * len(common_node_id) / n_nodes))"
      ],
      "execution_count": 37,
      "outputs": [
        {
          "output_type": "stream",
          "text": [
            "Rules used to predict sample 0:\n",
            "\n",
            "decision node 0 : (X_test[0, 20] = 14.45) <= 16.795000076293945)\n",
            "decision node 1 : (X_test[0, 27] = 0.08045) <= 0.1359499990940094)\n",
            "decision node 2 : (X_test[0, 10] = 0.3834) <= 1.047549992799759)\n",
            "decision node 3 : (X_test[0, 14] = 0.007509) > 0.003294000052846968)\n",
            "decision node 7 : (X_test[0, 13] = 28.62) <= 48.70000076293945)\n",
            "decision node 8 : (X_test[0, 21] = 21.74) <= 33.35000038146973)\n",
            "\n",
            "The following samples [0, 2] share the node(s) [0 1] in the tree.\n",
            "This is 5.714285714285714% of all nodes.\n"
          ],
          "name": "stdout"
        }
      ]
    },
    {
      "cell_type": "code",
      "metadata": {
        "id": "SS7Dd1LzXCZu",
        "outputId": "545d7601-005a-4435-d5a7-a900c7bb5dcd",
        "colab": {
          "base_uri": "https://localhost:8080/",
          "height": 248
        }
      },
      "source": [
        "import matplotlib.pyplot as plt\r\n",
        "import seaborn as sns \r\n",
        "from sklearn import tree\r\n",
        "\r\n",
        "\r\n",
        "\"\"\"**Pictorial representation of Decision Tree**\"\"\"\r\n",
        "\r\n",
        "#plt.figure(figsize=(12,8))\r\n",
        "tree.plot_tree(gini_tree)\r\n",
        "plt.show()"
      ],
      "execution_count": 31,
      "outputs": [
        {
          "output_type": "display_data",
          "data": {
            "image/png": "[encoded data removed]",
            "text/plain": [
              "<Figure size 432x288 with 1 Axes>"
            ]
          },
          "metadata": {
            "tags": [],
            "needs_background": "light"
          }
        }
      ]
    }
  ]
}